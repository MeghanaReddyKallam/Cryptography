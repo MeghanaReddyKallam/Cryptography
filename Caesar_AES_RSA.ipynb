{
 "cells": [
  {
   "cell_type": "markdown",
   "metadata": {},
   "source": [
    "Recitation 1: Encryption\n",
    "========================\n",
    "\n",
    "In this lab we will get hands-on experience with different encryption methods: The Caesar Cipher, AES, and RSA.\n",
    "\n",
    "To begin, run this command in the terminal to install the required libraries: `pip install pycrypto rsa`\n",
    "\n",
    "First, let's come up with a plaintext string which we will encrypt. Imagine this is some text we want to keep secret. Feel free to replace it with something else, but this exercise works best when it's about a paragraph long:"
   ]
  },
  {
   "cell_type": "code",
   "execution_count": 1,
   "metadata": {},
   "outputs": [],
   "source": [
    "plaintext = (\n",
    "    \"The FitnessGram Pacer Test is a multistage aerobic capacity test that progressively gets more difficult as it continues. \"\n",
    "    \"The 20 meter pacer test will begin in 30 seconds. Line up at the start. The running speed starts slowly, but gets faster each minute after you hear this signal. \"\n",
    "    \"A single lap should be completed each time you hear this sound. Remember to run in a straight line, and run as long as possible.\")"
   ]
  },
  {
   "cell_type": "markdown",
   "metadata": {},
   "source": [
    "Part 1: Caesar Cipher\n",
    "---------------------\n",
    "We would like to encrypt this message so that only we can read it. Let's start off by using a caesar cypher: this is a simple method of scrambling a message, by shifting each character by a secret amount. So if the secret were three, \"a\" would shift three letters to become \"d\", \"h\" would become \"k\", and so on. We can define a function to do this given a plaintext string and a secret shift value:"
   ]
  },
  {
   "cell_type": "code",
   "execution_count": 2,
   "metadata": {},
   "outputs": [],
   "source": [
    "import string\n",
    "\n",
    "def caesar_cipher(plaintext: str, secret: int):\n",
    "    # This function shifts a single character.\n",
    "    def shift_char(char: str):\n",
    "        # Ignore special characters.\n",
    "        if char not in string.ascii_letters:\n",
    "            return char\n",
    "\n",
    "        # We need to do a little math so that letters at the end of the alphabet wrap around.\n",
    "        if char.isupper():\n",
    "            return chr((ord(char) - 65 + secret) % 26 + 65)\n",
    "        else:\n",
    "            return chr((ord(char) - 97 + secret) % 26 + 97)\n",
    "    \n",
    "    # Shift each character by the secret amount\n",
    "    shifted_chars = [shift_char(char) for char in plaintext]\n",
    "\n",
    "    # Join them back into a string\n",
    "    return \"\".join(shifted_chars)"
   ]
  },
  {
   "cell_type": "markdown",
   "metadata": {},
   "source": [
    "Now when we run the code below, we can see that we've scrambled the text, and nobody can read it without the secret key! ...right?"
   ]
  },
  {
   "cell_type": "code",
   "execution_count": 3,
   "metadata": {},
   "outputs": [
    {
     "name": "stdout",
     "output_type": "stream",
     "text": [
      "Ciphertext:\n",
      "===========\n",
      "Aol MpaulzzNyht Whjly Alza pz h tbsapzahnl hlyvipj jhwhjpaf alza aoha wyvnylzzpclsf nlaz tvyl kpmmpjbsa hz pa jvuapublz. Aol 20 tlaly whjly alza dpss ilnpu pu 30 zljvukz. Spul bw ha aol zahya. Aol ybuupun zwllk zahyaz zsvdsf, iba nlaz mhzaly lhjo tpubal hmaly fvb olhy aopz zpnuhs. H zpunsl shw zovbsk il jvtwslalk lhjo aptl fvb olhy aopz zvbuk. Yltltily av ybu pu h zayhpnoa spul, huk ybu hz svun hz wvzzpisl.\n"
     ]
    }
   ],
   "source": [
    "secret_key = 7\n",
    "\n",
    "ciphertext = caesar_cipher(plaintext, secret_key)\n",
    "\n",
    "print(\"Ciphertext:\")\n",
    "print(\"===========\")\n",
    "print(ciphertext)"
   ]
  },
  {
   "cell_type": "markdown",
   "metadata": {},
   "source": [
    "We can reverse the process by shifting backwards by the same amount. Only the same secret will work however, and shifting by a different amount will still result in scrambled text:"
   ]
  },
  {
   "cell_type": "code",
   "execution_count": 4,
   "metadata": {},
   "outputs": [
    {
     "name": "stdout",
     "output_type": "stream",
     "text": [
      "Plaintext:\n",
      "==========\n",
      "The FitnessGram Pacer Test is a multistage aerobic capacity test that progressively gets more difficult as it continues. The 20 meter pacer test will begin in 30 seconds. Line up at the start. The running speed starts slowly, but gets faster each minute after you hear this signal. A single lap should be completed each time you hear this sound. Remember to run in a straight line, and run as long as possible.\n",
      "\n",
      "Incorrect plaintext (uses the wrong secret key):\n",
      "==========\n",
      "Uif GjuofttHsbn Qbdfs Uftu jt b nvmujtubhf bfspcjd dbqbdjuz uftu uibu qsphsfttjwfmz hfut npsf ejggjdvmu bt ju dpoujovft. Uif 20 nfufs qbdfs uftu xjmm cfhjo jo 30 tfdpoet. Mjof vq bu uif tubsu. Uif svoojoh tqffe tubsut tmpxmz, cvu hfut gbtufs fbdi njovuf bgufs zpv ifbs uijt tjhobm. B tjohmf mbq tipvme cf dpnqmfufe fbdi ujnf zpv ifbs uijt tpvoe. Sfnfncfs up svo jo b tusbjhiu mjof, boe svo bt mpoh bt qpttjcmf.\n"
     ]
    }
   ],
   "source": [
    "print(\"Plaintext:\")\n",
    "print(\"==========\")\n",
    "print(caesar_cipher(ciphertext, -secret_key))\n",
    "print()\n",
    "print(\"Incorrect plaintext (uses the wrong secret key):\")\n",
    "print(\"==========\")\n",
    "print(caesar_cipher(ciphertext, -secret_key + 1))"
   ]
  },
  {
   "cell_type": "markdown",
   "metadata": {},
   "source": [
    "Part 1a: Brute Forcing\n",
    "---------------------\n",
    "So far, this cipher can scramble a message so it cannot be read, and it can only be unscrambled with the secret key. We're secure now, right? Well, not really. For one thing, there's only 25 possible shifts you can make before the characters loop back around. An attacker could simply try each one and see which one is correct. Below is some unknown ciphertext, see if you can figure out what it is just by iterating through all 25 shifts:"
   ]
  },
  {
   "cell_type": "code",
   "execution_count": 8,
   "metadata": {},
   "outputs": [
    {
     "name": "stdout",
     "output_type": "stream",
     "text": [
      "Well, that was really easy to break.\n"
     ]
    }
   ],
   "source": [
    "unknown_ciphertext = \"Aipp, xlex aew vieppc iewc xs fvieo.\"\n",
    "print(caesar_cipher(unknown_ciphertext, -4))"
   ]
  },
  {
   "cell_type": "markdown",
   "metadata": {},
   "source": [
    "Part 1b: Frequency Analysis\n",
    "--------------------------\n",
    "\n",
    "The small number of possiblities isn't the only problem, however. The Caesar Cipher does not scramble the characters very much, and there are a lot of patterns that we can use to determine the secret key. One tactic is frequency analysis: looking at which letters show up most often. The English language uses some letters more than others, so letters like \"E\", \"A\", and \"T\" are very common while letters like \"Z\", \"X\", and \"J\" are almost never used. We can find these frequencies online, and graph the result:"
   ]
  },
  {
   "cell_type": "code",
   "execution_count": null,
   "metadata": {},
   "outputs": [
    {
     "data": {
      "image/png": "[encoded data removed]",
      "text/plain": [
       "<Figure size 432x288 with 1 Axes>"
      ]
     },
     "metadata": {
      "needs_background": "light"
     },
     "output_type": "display_data"
    }
   ],
   "source": [
    "import matplotlib.pyplot as plt\n",
    "import numpy as np\n",
    "%matplotlib inline\n",
    "\n",
    "letter_frequencies = {\n",
    "    'A': 8.167,\n",
    "    'B': 1.492,\n",
    "    'C': 2.782,\n",
    "    'D': 4.253,\n",
    "    'E': 12.702,\n",
    "    'F': 2.228,\n",
    "    'G': 2.015,\n",
    "    'H': 6.094,\n",
    "    'I': 6.996,\n",
    "    'J': 0.153,\n",
    "    'K': 0.772,\n",
    "    'L': 4.025,\n",
    "    'M': 2.406,\n",
    "    'N': 6.749,\n",
    "    'O': 7.507,\n",
    "    'P': 1.929,\n",
    "    'Q': 0.095,\n",
    "    'R': 5.987,\n",
    "    'S': 6.327,\n",
    "    'T': 9.056,\n",
    "    'U': 2.758,\n",
    "    'V': 0.978,\n",
    "    'W': 2.360,\n",
    "    'X': 0.150,\n",
    "    'Y': 1.974,\n",
    "    'Z': 0.074\n",
    "}\n",
    "\n",
    "plt.bar(letter_frequencies.keys(), letter_frequencies.values())\n",
    "\n",
    "plt.show()"
   ]
  },
  {
   "cell_type": "markdown",
   "metadata": {},
   "source": [
    "Now, let's write a function to show the letter frequencies of a particular piece of text, and pass it the plaintext and the ciphertext from earlier:"
   ]
  },
  {
   "cell_type": "code",
   "execution_count": null,
   "metadata": {},
   "outputs": [
    {
     "data": {
      "image/png": "[encoded data removed]",
      "text/plain": [
       "<Figure size 432x288 with 1 Axes>"
      ]
     },
     "metadata": {
      "needs_background": "light"
     },
     "output_type": "display_data"
    },
    {
     "data": {
      "image/png": "[encoded data removed]",
      "text/plain": [
       "<Figure size 432x288 with 1 Axes>"
      ]
     },
     "metadata": {
      "needs_background": "light"
     },
     "output_type": "display_data"
    }
   ],
   "source": [
    "from collections import Counter\n",
    "import base64\n",
    "\n",
    "def show_frequencies(s: str):\n",
    "    character_counts = Counter(s.upper())\n",
    "\n",
    "    plt.bar(list(string.ascii_uppercase), [character_counts.get(char, 0) for char in string.ascii_uppercase])\n",
    "    plt.show()\n",
    "\n",
    "show_frequencies(plaintext)\n",
    "show_frequencies(ciphertext)"
   ]
  },
  {
   "cell_type": "markdown",
   "metadata": {},
   "source": [
    "The plaintexttext (the first graph) should look very to the average English Language frequency from before! The ciphertext (the second graph) looks different, however: because we are changing each character by the same amount, the graph has been shifted. However, it is easy to tell how far it was shifted just by looking at it! By looking at the very common or very uncommon letters, it is possible to tell how far they have shifted between the two graphs. This number is the supposedly \"secret\" key! Below is a large block of new ciphertext, and you are not given the secret key. See if you can calculate the key by looking at the frequency graph, without brute-forcing it."
   ]
  },
  {
   "cell_type": "code",
   "execution_count": 9,
   "metadata": {},
   "outputs": [
    {
     "ename": "NameError",
     "evalue": "name 'show_frequencies' is not defined",
     "output_type": "error",
     "traceback": [
      "\u001b[0;31m---------------------------------------------------------------------------\u001b[0m",
      "\u001b[0;31mNameError\u001b[0m                                 Traceback (most recent call last)",
      "\u001b[0;32m/var/folders/h8/ngrj7mhx4vd3_19nj_prh3p80000gp/T/ipykernel_75914/2812286245.py\u001b[0m in \u001b[0;36m<module>\u001b[0;34m\u001b[0m\n\u001b[1;32m      4\u001b[0m     \"U mchafy fuj mbiofx vy wigjfynyx yuwb ncgy sio byul nbcm miohx. Lygygvyl ni loh ch u mnlucabn fchy, uhx loh um fiha um jimmcvfy.\")\n\u001b[1;32m      5\u001b[0m \u001b[0;34m\u001b[0m\u001b[0m\n\u001b[0;32m----> 6\u001b[0;31m \u001b[0mshow_frequencies\u001b[0m\u001b[0;34m(\u001b[0m\u001b[0mnew_ciphertext\u001b[0m\u001b[0;34m)\u001b[0m\u001b[0;34m\u001b[0m\u001b[0;34m\u001b[0m\u001b[0m\n\u001b[0m",
      "\u001b[0;31mNameError\u001b[0m: name 'show_frequencies' is not defined"
     ]
    }
   ],
   "source": [
    "new_ciphertext = (\n",
    "    \"Nby ZcnhymmAlug Juwyl Nymn cm u gofncmnuay uylivcw wujuwcns nymn nbun jlialymmcpyfs aynm gily xczzcwofn um cn wihnchoym. \"\n",
    "    \"Nby 20 gynyl juwyl nymn qcff vyach ch 30 mywihxm. Fchy oj un nby mnuln. Nby lohhcha mjyyx mnulnm mfiqfs, von aynm zumnyl yuwb gchony uznyl sio byul nbcm mcahuf. \"\n",
    "    \"U mchafy fuj mbiofx vy wigjfynyx yuwb ncgy sio byul nbcm miohx. Lygygvyl ni loh ch u mnlucabn fchy, uhx loh um fiha um jimmcvfy.\")\n",
    "\n",
    "show_frequencies(new_ciphertext)"
   ]
  },
  {
   "cell_type": "markdown",
   "metadata": {},
   "source": [
    "Part 2: AES\n",
    "===========\n",
    "\n",
    "We can see that the Caesar Cipher is not a useful method of keeping data safe. Instead, we will use the more complex AES cipher. The AES cipher performs a much more complicated operation than simply shifting the character, which we won't go into depth on here, but suffice to say it leaves the output sufficiently scrambled. It also uses a much longer secret: a string of bits, which can be as long as necessary to ensure security."
   ]
  },
  {
   "cell_type": "code",
   "execution_count": 10,
   "metadata": {},
   "outputs": [
    {
     "ename": "ModuleNotFoundError",
     "evalue": "No module named 'Crypto'",
     "output_type": "error",
     "traceback": [
      "\u001b[0;31m---------------------------------------------------------------------------\u001b[0m",
      "\u001b[0;31mModuleNotFoundError\u001b[0m                       Traceback (most recent call last)",
      "\u001b[0;32m/var/folders/h8/ngrj7mhx4vd3_19nj_prh3p80000gp/T/ipykernel_75914/1107152776.py\u001b[0m in \u001b[0;36m<module>\u001b[0;34m\u001b[0m\n\u001b[0;32m----> 1\u001b[0;31m \u001b[0;32mfrom\u001b[0m \u001b[0mCrypto\u001b[0m\u001b[0;34m.\u001b[0m\u001b[0mCipher\u001b[0m \u001b[0;32mimport\u001b[0m \u001b[0mAES\u001b[0m\u001b[0;34m\u001b[0m\u001b[0;34m\u001b[0m\u001b[0m\n\u001b[0m\u001b[1;32m      2\u001b[0m \u001b[0;34m\u001b[0m\u001b[0m\n\u001b[1;32m      3\u001b[0m \u001b[0;31m# Rather than an integer, the secret is now a long string of bytes (length must be a power of 2)\u001b[0m\u001b[0;34m\u001b[0m\u001b[0;34m\u001b[0m\u001b[0m\n\u001b[1;32m      4\u001b[0m \u001b[0msecret\u001b[0m \u001b[0;34m=\u001b[0m \u001b[0;34m'GZktMap1FgML5sa2'\u001b[0m\u001b[0;34m\u001b[0m\u001b[0;34m\u001b[0m\u001b[0m\n\u001b[1;32m      5\u001b[0m \u001b[0maes_cipher\u001b[0m \u001b[0;34m=\u001b[0m \u001b[0mAES\u001b[0m\u001b[0;34m.\u001b[0m\u001b[0mnew\u001b[0m\u001b[0;34m(\u001b[0m\u001b[0msecret\u001b[0m\u001b[0;34m,\u001b[0m \u001b[0mAES\u001b[0m\u001b[0;34m.\u001b[0m\u001b[0mMODE_ECB\u001b[0m\u001b[0;34m)\u001b[0m\u001b[0;34m\u001b[0m\u001b[0;34m\u001b[0m\u001b[0m\n",
      "\u001b[0;31mModuleNotFoundError\u001b[0m: No module named 'Crypto'"
     ]
    }
   ],
   "source": [
    "from Crypto.Cipher import AES\n",
    "\n",
    "# Rather than an integer, the secret is now a long string of bytes (length must be a power of 2)\n",
    "secret = 'GZktMap1FgML5sa2'\n",
    "aes_cipher = AES.new(secret, AES.MODE_ECB)\n",
    "\n",
    "# Add padding to make the string 16 characters long\n",
    "padding = '0' * (16 - (len(plaintext) % 16))\n",
    "\n",
    "aes_ciphertext = aes_cipher.encrypt(plaintext + padding)\n",
    "\n",
    "print(aes_ciphertext)"
   ]
  },
  {
   "cell_type": "markdown",
   "metadata": {},
   "source": [
    "We can see immidiately that the output is far more scrambled than before. There is no resembalance to the original string. We can still decrypt this by reversing the operation, but doing so requires the same secret as before. Using the wrong secret fails to decrypt the ciphertext, and the result is still scrambled!"
   ]
  },
  {
   "cell_type": "code",
   "execution_count": 11,
   "metadata": {},
   "outputs": [
    {
     "name": "stdout",
     "output_type": "stream",
     "text": [
      "Original secret\n",
      "===============\n"
     ]
    },
    {
     "ename": "NameError",
     "evalue": "name 'AES' is not defined",
     "output_type": "error",
     "traceback": [
      "\u001b[0;31m---------------------------------------------------------------------------\u001b[0m",
      "\u001b[0;31mNameError\u001b[0m                                 Traceback (most recent call last)",
      "\u001b[0;32m/var/folders/h8/ngrj7mhx4vd3_19nj_prh3p80000gp/T/ipykernel_75914/1160679227.py\u001b[0m in \u001b[0;36m<module>\u001b[0;34m\u001b[0m\n\u001b[1;32m      1\u001b[0m \u001b[0mprint\u001b[0m\u001b[0;34m(\u001b[0m\u001b[0;34m'Original secret'\u001b[0m\u001b[0;34m)\u001b[0m\u001b[0;34m\u001b[0m\u001b[0;34m\u001b[0m\u001b[0m\n\u001b[1;32m      2\u001b[0m \u001b[0mprint\u001b[0m\u001b[0;34m(\u001b[0m\u001b[0;34m'==============='\u001b[0m\u001b[0;34m)\u001b[0m\u001b[0;34m\u001b[0m\u001b[0;34m\u001b[0m\u001b[0m\n\u001b[0;32m----> 3\u001b[0;31m \u001b[0mprint\u001b[0m\u001b[0;34m(\u001b[0m\u001b[0mAES\u001b[0m\u001b[0;34m.\u001b[0m\u001b[0mnew\u001b[0m\u001b[0;34m(\u001b[0m\u001b[0mkey\u001b[0m\u001b[0;34m=\u001b[0m\u001b[0msecret\u001b[0m\u001b[0;34m,\u001b[0m \u001b[0mmode\u001b[0m\u001b[0;34m=\u001b[0m\u001b[0mAES\u001b[0m\u001b[0;34m.\u001b[0m\u001b[0mMODE_ECB\u001b[0m\u001b[0;34m)\u001b[0m\u001b[0;34m.\u001b[0m\u001b[0mdecrypt\u001b[0m\u001b[0;34m(\u001b[0m\u001b[0maes_ciphertext\u001b[0m\u001b[0;34m)\u001b[0m\u001b[0;34m)\u001b[0m\u001b[0;34m\u001b[0m\u001b[0;34m\u001b[0m\u001b[0m\n\u001b[0m\u001b[1;32m      4\u001b[0m \u001b[0mprint\u001b[0m\u001b[0;34m(\u001b[0m\u001b[0;34m)\u001b[0m\u001b[0;34m\u001b[0m\u001b[0;34m\u001b[0m\u001b[0m\n\u001b[1;32m      5\u001b[0m \u001b[0mprint\u001b[0m\u001b[0;34m(\u001b[0m\u001b[0;34m'Incorrect secret'\u001b[0m\u001b[0;34m)\u001b[0m\u001b[0;34m\u001b[0m\u001b[0;34m\u001b[0m\u001b[0m\n",
      "\u001b[0;31mNameError\u001b[0m: name 'AES' is not defined"
     ]
    }
   ],
   "source": [
    "print('Original secret')\n",
    "print('===============')\n",
    "print(AES.new(key=secret, mode=AES.MODE_ECB).decrypt(aes_ciphertext))\n",
    "print()\n",
    "print('Incorrect secret')\n",
    "print('================')\n",
    "print(AES.new(key='thisisincorrect!', mode=AES.MODE_ECB).decrypt(aes_ciphertext))"
   ]
  },
  {
   "cell_type": "markdown",
   "metadata": {},
   "source": [
    "Because the secret is now a long string and not a small integer, brute-forcing the secret is much harder. This secret is 128 bits long, meaning there are **340,282,366,920,938,463,463,374,607,431,768,211,456** possible secrets! Here is one last piece of ciphertext, see if you can reverse it without knowing the secret."
   ]
  },
  {
   "cell_type": "code",
   "execution_count": 12,
   "metadata": {},
   "outputs": [
    {
     "ename": "NameError",
     "evalue": "name 'AES' is not defined",
     "output_type": "error",
     "traceback": [
      "\u001b[0;31m---------------------------------------------------------------------------\u001b[0m",
      "\u001b[0;31mNameError\u001b[0m                                 Traceback (most recent call last)",
      "\u001b[0;32m/var/folders/h8/ngrj7mhx4vd3_19nj_prh3p80000gp/T/ipykernel_75914/1804900722.py\u001b[0m in \u001b[0;36m<module>\u001b[0;34m\u001b[0m\n\u001b[1;32m      6\u001b[0m \u001b[0;34m\u001b[0m\u001b[0m\n\u001b[1;32m      7\u001b[0m \u001b[0msecret\u001b[0m \u001b[0;34m=\u001b[0m \u001b[0;34m'????????????????'\u001b[0m\u001b[0;34m\u001b[0m\u001b[0;34m\u001b[0m\u001b[0m\n\u001b[0;32m----> 8\u001b[0;31m \u001b[0maes_cipher\u001b[0m \u001b[0;34m=\u001b[0m \u001b[0mAES\u001b[0m\u001b[0;34m.\u001b[0m\u001b[0mnew\u001b[0m\u001b[0;34m(\u001b[0m\u001b[0msecret\u001b[0m\u001b[0;34m,\u001b[0m \u001b[0mAES\u001b[0m\u001b[0;34m.\u001b[0m\u001b[0mMODE_ECB\u001b[0m\u001b[0;34m)\u001b[0m\u001b[0;34m\u001b[0m\u001b[0;34m\u001b[0m\u001b[0m\n\u001b[0m\u001b[1;32m      9\u001b[0m \u001b[0;34m\u001b[0m\u001b[0m\n\u001b[1;32m     10\u001b[0m \u001b[0mprint\u001b[0m\u001b[0;34m(\u001b[0m\u001b[0maes_cipher\u001b[0m\u001b[0;34m.\u001b[0m\u001b[0mdecrypt\u001b[0m\u001b[0;34m(\u001b[0m\u001b[0mnew_aes_ciphertext\u001b[0m\u001b[0;34m)\u001b[0m\u001b[0;34m)\u001b[0m\u001b[0;34m\u001b[0m\u001b[0;34m\u001b[0m\u001b[0m\n",
      "\u001b[0;31mNameError\u001b[0m: name 'AES' is not defined"
     ]
    }
   ],
   "source": [
    "new_aes_ciphertext = (\n",
    "    b\"K\\xa6\\tz\\xd5Q\\x11\\x07\\xc9\\xa5\\x19pX\\xbb\\xd4\\x1e\\xcb\\x99\\xfbow&\\xfdy\\xcc\\x1e\\xf1\\xc4\\x999V\\xb8\\xb6\\x1d\\xbf\\x7f\\xc9\\xbe\\xf6\"\n",
    "    b\"\\xd5\\x10\\xbc\\x07|0\\xb3O\\xd2\\x07\\x99\\xfcr\\x05\\xd9\\xc6\\xc8\\xae\\xdb\\xe3\\xc7g\\xde%\\x02\\xfb\\xfe\\xb4\\x86\\xa3\\xa2\\x1c\\xd0h\\xb3\\xd6\"\n",
    "    b\"oT;\\x1fo\\xb4\\xef\\x7f^M\\xaa1\\x8di\\x16o\\xceg|\\\\\\xfc\\t\\xcc\\x8f\\x10\\xc9\\xb7\\x120g?/\\xb0\\xc5\\xd5\\xfc\\x1bJI!\\x00\\xfd\\xdd\\x94\\xe6,\"\n",
    "    b\"(\\xc2\\x0fJ\\x96\\xdc\\xca\\xd3^\\xc3\\xe7\\x86\\xd5\\xe2\\x95\\xe9\\xbfnh\\xd0\\xce\\xf1;\")\n",
    "\n",
    "secret = '????????????????'\n",
    "aes_cipher = AES.new(secret, AES.MODE_ECB)\n",
    "\n",
    "print(aes_cipher.decrypt(new_aes_ciphertext))\n"
   ]
  },
  {
   "cell_type": "markdown",
   "metadata": {},
   "source": [
    "Part 3: RSA\n",
    "===========\n",
    "\n",
    "While AES is much better at protecting data than a Caesar Cipher, it still has one drawback: It is a **symmetric** algorithm, meaning it is encrypted and decrypted using the same secret key. While we can generate our own secret keys, we have no good way of sending them to the party we want to communicate with! Anyone listening in can simply steal the unencrypted secret, before we have a chance to set up our encryption at all. To solve this, we will use a third Cipher system: RSA. RSA is **asymmetric**, meaning the key we use to encrypt data cannot be used to decrypt it again. The code below will generate two of these keys: a public and a private key. The public key can be used to encrypt a message, which only the private key can unlock."
   ]
  },
  {
   "cell_type": "code",
   "execution_count": 13,
   "metadata": {},
   "outputs": [
    {
     "ename": "ModuleNotFoundError",
     "evalue": "No module named 'rsa'",
     "output_type": "error",
     "traceback": [
      "\u001b[0;31m---------------------------------------------------------------------------\u001b[0m",
      "\u001b[0;31mModuleNotFoundError\u001b[0m                       Traceback (most recent call last)",
      "\u001b[0;32m/var/folders/h8/ngrj7mhx4vd3_19nj_prh3p80000gp/T/ipykernel_75914/1613058681.py\u001b[0m in \u001b[0;36m<module>\u001b[0;34m\u001b[0m\n\u001b[0;32m----> 1\u001b[0;31m \u001b[0;32mimport\u001b[0m \u001b[0mrsa\u001b[0m\u001b[0;34m\u001b[0m\u001b[0;34m\u001b[0m\u001b[0m\n\u001b[0m\u001b[1;32m      2\u001b[0m \u001b[0;34m\u001b[0m\u001b[0m\n\u001b[1;32m      3\u001b[0m \u001b[0mprint\u001b[0m\u001b[0;34m(\u001b[0m\u001b[0;34m\"Calculating key pair...\"\u001b[0m\u001b[0;34m)\u001b[0m\u001b[0;34m\u001b[0m\u001b[0;34m\u001b[0m\u001b[0m\n\u001b[1;32m      4\u001b[0m \u001b[0mpublic_key\u001b[0m\u001b[0;34m,\u001b[0m \u001b[0mprivate_key\u001b[0m \u001b[0;34m=\u001b[0m \u001b[0mrsa\u001b[0m\u001b[0;34m.\u001b[0m\u001b[0mnewkeys\u001b[0m\u001b[0;34m(\u001b[0m\u001b[0;36m2048\u001b[0m\u001b[0;34m)\u001b[0m\u001b[0;34m\u001b[0m\u001b[0;34m\u001b[0m\u001b[0m\n\u001b[1;32m      5\u001b[0m \u001b[0;34m\u001b[0m\u001b[0m\n",
      "\u001b[0;31mModuleNotFoundError\u001b[0m: No module named 'rsa'"
     ]
    }
   ],
   "source": [
    "import rsa\n",
    "\n",
    "print(\"Calculating key pair...\")\n",
    "public_key, private_key = rsa.newkeys(2048)\n",
    "\n",
    "print(\"Public Key\")\n",
    "print(\"==========\")\n",
    "print(public_key)\n",
    "print()\n",
    "print(\"Private Key\")\n",
    "print(\"==========\")\n",
    "print(private_key)"
   ]
  },
  {
   "cell_type": "markdown",
   "metadata": {},
   "source": [
    "Notice how each key is simply a very large number! Also notice that it takes a moment to generate- calculating these numbers is relatively slow. If you change the code above to use an even stronger 4096-bit key, it might even take minutes! Because of this, they are rarely used to transmit large amounts of data. In fact, they are limited to a certain amount of data that is less than the number of bits in the key! If we try encoding the original plaintext, we will see that it doesn't work."
   ]
  },
  {
   "cell_type": "code",
   "execution_count": 8,
   "metadata": {},
   "outputs": [
    {
     "ename": "OverflowError",
     "evalue": "410 bytes needed for message, but there is only space for 245",
     "output_type": "error",
     "traceback": [
      "\u001b[0;31m---------------------------------------------------------------------------\u001b[0m",
      "\u001b[0;31mOverflowError\u001b[0m                             Traceback (most recent call last)",
      "\u001b[0;32m/tmp/ipykernel_119/200590342.py\u001b[0m in \u001b[0;36m<module>\u001b[0;34m\u001b[0m\n\u001b[0;32m----> 1\u001b[0;31m \u001b[0mrsa\u001b[0m\u001b[0;34m.\u001b[0m\u001b[0mencrypt\u001b[0m\u001b[0;34m(\u001b[0m\u001b[0mplaintext\u001b[0m\u001b[0;34m.\u001b[0m\u001b[0mencode\u001b[0m\u001b[0;34m(\u001b[0m\u001b[0;34m)\u001b[0m\u001b[0;34m,\u001b[0m \u001b[0mpublic_key\u001b[0m\u001b[0;34m)\u001b[0m \u001b[0;31m# This will fail (input is too large)\u001b[0m\u001b[0;34m\u001b[0m\u001b[0;34m\u001b[0m\u001b[0m\n\u001b[0m",
      "\u001b[0;32m/opt/conda/lib/python3.9/site-packages/rsa/pkcs1.py\u001b[0m in \u001b[0;36mencrypt\u001b[0;34m(message, pub_key)\u001b[0m\n\u001b[1;32m    192\u001b[0m \u001b[0;34m\u001b[0m\u001b[0m\n\u001b[1;32m    193\u001b[0m     \u001b[0mkeylength\u001b[0m \u001b[0;34m=\u001b[0m \u001b[0mcommon\u001b[0m\u001b[0;34m.\u001b[0m\u001b[0mbyte_size\u001b[0m\u001b[0;34m(\u001b[0m\u001b[0mpub_key\u001b[0m\u001b[0;34m.\u001b[0m\u001b[0mn\u001b[0m\u001b[0;34m)\u001b[0m\u001b[0;34m\u001b[0m\u001b[0;34m\u001b[0m\u001b[0m\n\u001b[0;32m--> 194\u001b[0;31m     \u001b[0mpadded\u001b[0m \u001b[0;34m=\u001b[0m \u001b[0m_pad_for_encryption\u001b[0m\u001b[0;34m(\u001b[0m\u001b[0mmessage\u001b[0m\u001b[0;34m,\u001b[0m \u001b[0mkeylength\u001b[0m\u001b[0;34m)\u001b[0m\u001b[0;34m\u001b[0m\u001b[0;34m\u001b[0m\u001b[0m\n\u001b[0m\u001b[1;32m    195\u001b[0m \u001b[0;34m\u001b[0m\u001b[0m\n\u001b[1;32m    196\u001b[0m     \u001b[0mpayload\u001b[0m \u001b[0;34m=\u001b[0m \u001b[0mtransform\u001b[0m\u001b[0;34m.\u001b[0m\u001b[0mbytes2int\u001b[0m\u001b[0;34m(\u001b[0m\u001b[0mpadded\u001b[0m\u001b[0;34m)\u001b[0m\u001b[0;34m\u001b[0m\u001b[0;34m\u001b[0m\u001b[0m\n",
      "\u001b[0;32m/opt/conda/lib/python3.9/site-packages/rsa/pkcs1.py\u001b[0m in \u001b[0;36m_pad_for_encryption\u001b[0;34m(message, target_length)\u001b[0m\n\u001b[1;32m    110\u001b[0m \u001b[0;34m\u001b[0m\u001b[0m\n\u001b[1;32m    111\u001b[0m     \u001b[0;32mif\u001b[0m \u001b[0mmsglength\u001b[0m \u001b[0;34m>\u001b[0m \u001b[0mmax_msglength\u001b[0m\u001b[0;34m:\u001b[0m\u001b[0;34m\u001b[0m\u001b[0;34m\u001b[0m\u001b[0m\n\u001b[0;32m--> 112\u001b[0;31m         raise OverflowError(\n\u001b[0m\u001b[1;32m    113\u001b[0m             \u001b[0;34m\"%i bytes needed for message, but there is only\"\u001b[0m\u001b[0;34m\u001b[0m\u001b[0;34m\u001b[0m\u001b[0m\n\u001b[1;32m    114\u001b[0m             \u001b[0;34m\" space for %i\"\u001b[0m \u001b[0;34m%\u001b[0m \u001b[0;34m(\u001b[0m\u001b[0mmsglength\u001b[0m\u001b[0;34m,\u001b[0m \u001b[0mmax_msglength\u001b[0m\u001b[0;34m)\u001b[0m\u001b[0;34m\u001b[0m\u001b[0;34m\u001b[0m\u001b[0m\n",
      "\u001b[0;31mOverflowError\u001b[0m: 410 bytes needed for message, but there is only space for 245"
     ]
    }
   ],
   "source": [
    "rsa.encrypt(plaintext.encode(), public_key) # This will fail (input is too large)\n"
   ]
  },
  {
   "cell_type": "markdown",
   "metadata": {},
   "source": [
    "Because RSA is so slow, it is rarely used to transmit data. However, it can securely transmit the secret key for a symmetric encryption algorithm (like AES from part 1), and that symmetric algorithm can then be used to transmit the data. Imagine a conversation between Alice and Bob. Alice starts by sharing her public key with Bob. Bob then encrypts the symmetric key, and sends it back. Even if an attacker records Alice's public key, and the encrypted symmetric key that Bob sends back, they still can't decrypt it. This is because the public key can only be used to encode a message, not decode it! The only person who can decode it is Alice, who is the only person with the corrosponding private key. Even Bob can't decrypt it, even though he was the one who encrypted it! (Try it for yourself by replacing the private key below with the public key when decoding- it won't work)"
   ]
  },
  {
   "cell_type": "code",
   "execution_count": 12,
   "metadata": {},
   "outputs": [
    {
     "name": "stdout",
     "output_type": "stream",
     "text": [
      "Encrypted symmetric key\n",
      "=======================\n",
      "b'E\\xd5\\xb4*\\x10Jq\\xbcmbgKW\\x13\\x01\\x8d\\xa2l<\\xf3I\\xc6U\\xeb\\xaeC\\xbe\\x05\\xae\\xea\\xcf\\x06\\x84\\xaa\\xba6\\xab\\x1b\\x7f\\xeai\\xb7\\xd6=S\\xc5\\x12\\x06h\\xffbp0\\xcc\\xe4\\x0c3\\x1b\\xeb\\x9d\\x01\\xdd\\xeec\\xd1\\x18h\\x98\\xe6eF\\xb8\\xfa\\'\\x92O177s\\x8e\\x17\\xf7\\xbcM|ow\\xa2JP\\x19\\xf5\\x1ea\\x0e*\\xb8\\xe2\\xe6\\xb3S\\x98\\x1d$FJ\\xf5\\xdb\\x96\\x8d9\\xf7\\xa1\\xbf\\xe7+B,\\xa4\\xc4A\\x10\\x99>\\x1eS\\x17\\x0b&H\\xc5\\x90\\xc1\\x8a\\x00\\x8b1\\x80R]\\xd6\\xb0XH\\x82/\\xec\\x89pb.\\x02\\xb7\\xd9\\xb3\\xbe\\x8e\"\\xcez9C\\xb9\\xb3[Z\\x17\\xc4\\x03%\\xb6\\x8f-\\xc8\\xc4B\\xf0\\xfbq\\xb6\\xed\\xfe\\xf9\\x00\\xad+\\xf5fb\\x13aO\\x87\\xfa:\\xd9\\xe3\\x1a \\x80\\x0b\\x84\\x9fW\\xf8~\\xa7\\x0b\\xc0\\x1a\\x99\\x00\\xa9\\xb0\\x9a\\xfb9\\xcdr4J\\xf9\\x12\\x8dk\\xd6\\xf4\\x17\\x92\\xfa\\xa0/\\xc4<\\xc5\"\\xf1\\x04t\\x02\\xb7\\n\\\\[/5c\\nu\\x99\\xfc\\xcb\\x03\\x13\\x9e'\n",
      "Decrypted symmetric key\n",
      "=======================\n",
      "b'GZktMap1FgML5sa2'\n"
     ]
    }
   ],
   "source": [
    "# ===\n",
    "# Assume Alice has already generated public_key and private_key using the code from before.\n",
    "# Alice then sends public_key to Bob, who runs the following code:\n",
    "# ===\n",
    "\n",
    "symmetric_key = 'GZktMap1FgML5sa2'\n",
    "\n",
    "rsa_ciphertext = rsa.encrypt(symmetric_key.encode(), public_key)\n",
    "print('Encrypted symmetric key')\n",
    "print('=======================')\n",
    "print(rsa_ciphertext)\n",
    "\n",
    "# ===\n",
    "# After encrypting the symmetric key, Bob then sends back rsa_ciphertext to Alice.\n",
    "# At this point, anyone listening in will know public_key and rsa_ciphertext, but cannot use those to decrypt the symmetric key!\n",
    "# Only Alice can, using the private_key and the following code:\n",
    "# ===\n",
    "\n",
    "rsa_plaintext = rsa.decrypt(rsa_ciphertext, private_key)\n",
    "print('Decrypted symmetric key')\n",
    "print('=======================')\n",
    "print(rsa_plaintext)"
   ]
  },
  {
   "cell_type": "markdown",
   "metadata": {},
   "source": [
    "Once Alice and Bob use this to share a secret, they can use that shared secret to establish a symmetric AES encryption channel to send their data."
   ]
  }
 ],
 "metadata": {
  "kernelspec": {
   "display_name": "Python 3 (ipykernel)",
   "language": "python",
   "name": "python3"
  },
  "language_info": {
   "codemirror_mode": {
    "name": "ipython",
    "version": 3
   },
   "file_extension": ".py",
   "mimetype": "text/x-python",
   "name": "python",
   "nbconvert_exporter": "python",
   "pygments_lexer": "ipython3",
   "version": "3.9.7"
  }
 },
 "nbformat": 4,
 "nbformat_minor": 4
}
